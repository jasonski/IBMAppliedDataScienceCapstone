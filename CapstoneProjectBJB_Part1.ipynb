{
 "cells": [
  {
   "cell_type": "markdown",
   "metadata": {},
   "source": [
    "# Capstone Project - BJB - Part 1\n",
    "### Find the Sweet Spot for your Burger Place in Berlin -- Data Collection and First Exploration"
   ]
  },
  {
   "cell_type": "code",
   "execution_count": 19,
   "metadata": {},
   "outputs": [
    {
     "name": "stdout",
     "output_type": "stream",
     "text": [
      "Requirement already satisfied: kml2geojson in /home/jupyterlab/conda/envs/python/lib/python3.6/site-packages (4.0.2)\n",
      "Requirement already satisfied: click>=6.6 in /home/jupyterlab/conda/envs/python/lib/python3.6/site-packages (from kml2geojson) (7.0)\n",
      "Note: you may need to restart the kernel to use updated packages.\n"
     ]
    }
   ],
   "source": [
    "pip install kml2geojson"
   ]
  },
  {
   "cell_type": "code",
   "execution_count": 20,
   "metadata": {},
   "outputs": [
    {
     "name": "stdout",
     "output_type": "stream",
     "text": [
      "Requirement already satisfied: pykml in /home/jupyterlab/conda/envs/python/lib/python3.6/site-packages (0.2.0)\n",
      "Requirement already satisfied: lxml>=3.3.6 in /home/jupyterlab/conda/envs/python/lib/python3.6/site-packages (from pykml) (4.4.2)\n",
      "Note: you may need to restart the kernel to use updated packages.\n"
     ]
    }
   ],
   "source": [
    "pip install pykml"
   ]
  },
  {
   "cell_type": "code",
   "execution_count": 21,
   "metadata": {},
   "outputs": [
    {
     "name": "stdout",
     "output_type": "stream",
     "text": [
      "Requirement already satisfied: shapely in /home/jupyterlab/conda/envs/python/lib/python3.6/site-packages (1.6.4.post2)\n",
      "Note: you may need to restart the kernel to use updated packages.\n"
     ]
    }
   ],
   "source": [
    "pip install shapely"
   ]
  },
  {
   "cell_type": "code",
   "execution_count": 22,
   "metadata": {},
   "outputs": [],
   "source": [
    "#!conda install -c conda-forge folium=0.5.0 --yes"
   ]
  },
  {
   "cell_type": "code",
   "execution_count": 23,
   "metadata": {},
   "outputs": [],
   "source": [
    "import folium\n",
    "import requests # library to handle requests\n",
    "from pykml import parser\n",
    "import pandas as pd\n",
    "import numpy as np\n",
    "from pandas.io.json import json_normalize\n",
    "from shapely.geometry import Point\n",
    "from shapely.geometry.polygon import Polygon"
   ]
  },
  {
   "cell_type": "markdown",
   "metadata": {},
   "source": [
    "### Get public Citizen Data"
   ]
  },
  {
   "cell_type": "markdown",
   "metadata": {},
   "source": [
    "> We will use zip code wise citizen data.<br>\n",
    "Therefore we found Berlin zip code polygon data at:  [www.suche-postleitzahl.org](https://www.suche-postleitzahl.org/plz-karte-erstellen) -> geojson file <br>\n",
    ">We use zip code wise inhabitant numbers also provided by: [www.suche-postleitzahl.org/downloads](https://www.suche-postleitzahl.org/downloads) which is based on German census data from 2011.-> csv file  <br>\n",
    ">We will load them from our own repository."
   ]
  },
  {
   "cell_type": "code",
   "execution_count": 24,
   "metadata": {},
   "outputs": [],
   "source": [
    "df_ct = pd.read_csv('plz_einwohner_berlin.csv') #load citizen data\n",
    "df_ct = df_ct.rename(columns={'einwohner':'ct_count','plz':'zip'})\n",
    "\n",
    "berlin_geo = r'plz_5-stellig_berlin.geojson' # load zip code polygons for Berlin"
   ]
  },
  {
   "cell_type": "code",
   "execution_count": 25,
   "metadata": {},
   "outputs": [
    {
     "data": {
      "text/html": [
       "<div>\n",
       "<style scoped>\n",
       "    .dataframe tbody tr th:only-of-type {\n",
       "        vertical-align: middle;\n",
       "    }\n",
       "\n",
       "    .dataframe tbody tr th {\n",
       "        vertical-align: top;\n",
       "    }\n",
       "\n",
       "    .dataframe thead th {\n",
       "        text-align: right;\n",
       "    }\n",
       "</style>\n",
       "<table border=\"1\" class=\"dataframe\">\n",
       "  <thead>\n",
       "    <tr style=\"text-align: right;\">\n",
       "      <th></th>\n",
       "      <th>zip</th>\n",
       "      <th>ct_count</th>\n",
       "    </tr>\n",
       "  </thead>\n",
       "  <tbody>\n",
       "    <tr>\n",
       "      <th>0</th>\n",
       "      <td>10115</td>\n",
       "      <td>20313</td>\n",
       "    </tr>\n",
       "    <tr>\n",
       "      <th>1</th>\n",
       "      <td>10117</td>\n",
       "      <td>12217</td>\n",
       "    </tr>\n",
       "    <tr>\n",
       "      <th>2</th>\n",
       "      <td>10119</td>\n",
       "      <td>16363</td>\n",
       "    </tr>\n",
       "    <tr>\n",
       "      <th>3</th>\n",
       "      <td>10178</td>\n",
       "      <td>12167</td>\n",
       "    </tr>\n",
       "    <tr>\n",
       "      <th>4</th>\n",
       "      <td>10179</td>\n",
       "      <td>18664</td>\n",
       "    </tr>\n",
       "  </tbody>\n",
       "</table>\n",
       "</div>"
      ],
      "text/plain": [
       "     zip  ct_count\n",
       "0  10115     20313\n",
       "1  10117     12217\n",
       "2  10119     16363\n",
       "3  10178     12167\n",
       "4  10179     18664"
      ]
     },
     "execution_count": 25,
     "metadata": {},
     "output_type": "execute_result"
    }
   ],
   "source": [
    "df_ct.head()"
   ]
  },
  {
   "cell_type": "markdown",
   "metadata": {},
   "source": [
    "### Get Foursquare Data"
   ]
  },
  {
   "cell_type": "code",
   "execution_count": 26,
   "metadata": {},
   "outputs": [],
   "source": [
    "CLIENT_ID = 'XXTO3VYG4MWDAGWGWPCXMA2O4HMTTUPOSIEBVU101PHUGVQD' # your Foursquare ID\n",
    "CLIENT_SECRET = '30K02IQYZP43XYFVE5HW1OP2POGJUQU1L0CHGNV41YS1RBF0' # your Foursquare Secret\n",
    "VERSION = '20191211'"
   ]
  },
  {
   "cell_type": "markdown",
   "metadata": {},
   "source": [
    "> In order to obtain a sufficient amount of information on our targets a rectangle around Berlin is defined\n",
    "> by coordinates and divided in cells. For each cell a request to foursquare is filed. This\n",
    "> is necessary because there are many items for each of the three requested categories in Berlin\n",
    "> and foursquare will only provide 50 answers for a single request when using the free developer account."
   ]
  },
  {
   "cell_type": "code",
   "execution_count": 28,
   "metadata": {},
   "outputs": [],
   "source": [
    "sw_lon = 13.095 # corners of border around berlin\n",
    "sw_lat = 52.381\n",
    "ne_lon = 13.734\n",
    "ne_lat = 52.677\n",
    "\n",
    "lons = np.linspace(sw_lon,ne_lon,13) # these are the cell boundaries  for the looping process\n",
    "lats = np.linspace(sw_lat,ne_lat,13) # we use 12x12 cells, so that there are no more than 50 of ech category in each cell\n",
    "\n",
    "categorylist = ['4bf58dd8d48988d16c941735','4bf58dd8d48988d1fa931735','4bf58dd8d48988d124941735']#['Burger Joints','Hotels','Office']\n",
    "categorynames = ['Burger Joints','Hotels','Office']\n",
    "\n",
    "# we loop over the categories and over the different spatial cells defined above\n",
    "\n",
    "for idz, category in enumerate(categorylist): # loop over cateories\n",
    "    for idx in range(len(lons)-1):            # loop over longitude\n",
    "        for idy in range(len(lats)-1):        # loop over latitude\n",
    "            url = 'https://api.foursquare.com/v2/venues/search?'\n",
    "\n",
    "            params = dict(\n",
    "            client_id=CLIENT_ID,\n",
    "            client_secret=CLIENT_SECRET,\n",
    "            v=VERSION,\n",
    "            intent = 'browse',\n",
    "            sw = '{}, {}'.format(lats[idy],lons[idx]),\n",
    "            ne = '{}, {}'.format(lats[idy+1],lons[idx+1]),\n",
    "            categoryId = category,  #this is Burger Joints\n",
    "            limit=50\n",
    "            )\n",
    "\n",
    "            results = requests.get(url, params=params).json()\n",
    "            # assign relevant part of JSON to venues\n",
    "            venues = results['response']['venues']\n",
    "            if venues != []:\n",
    "\n",
    "                # tranform venues into a dataframe\n",
    "                dataframe = json_normalize(venues)\n",
    "                try:\n",
    "                    new_df=dataframe[['name','location.lat','location.lng','location.postalCode','id']].copy()\n",
    "                    new_df.rename({'location.lat':'lat','location.lng':'lon','location.postalCode':'zip'},axis=1,inplace=True)\n",
    "                except:\n",
    "                    pass\n",
    "                if 'res_df' not in locals():\n",
    "                    res_df = new_df.copy()\n",
    "                else:\n",
    "                    res_df = res_df.append(new_df)\n",
    "            else:\n",
    "                pass\n",
    "    \n",
    "    res_df.drop_duplicates(inplace= True)\n",
    "    res_df.reset_index(drop = True,inplace= True)  \n",
    "    #write into different dataframes \n",
    "    if idz == 0:\n",
    "        df_bj = res_df.copy()#burgerjoints\n",
    "        del res_df\n",
    "    elif idz == 1:\n",
    "        df_ht = res_df.copy()#hotels\n",
    "        del res_df\n",
    "    elif idz == 2:\n",
    "        df_of = res_df.copy()#offices\n",
    "        del res_df  \n",
    "    "
   ]
  },
  {
   "cell_type": "code",
   "execution_count": 29,
   "metadata": {},
   "outputs": [
    {
     "data": {
      "text/html": [
       "<div>\n",
       "<style scoped>\n",
       "    .dataframe tbody tr th:only-of-type {\n",
       "        vertical-align: middle;\n",
       "    }\n",
       "\n",
       "    .dataframe tbody tr th {\n",
       "        vertical-align: top;\n",
       "    }\n",
       "\n",
       "    .dataframe thead th {\n",
       "        text-align: right;\n",
       "    }\n",
       "</style>\n",
       "<table border=\"1\" class=\"dataframe\">\n",
       "  <thead>\n",
       "    <tr style=\"text-align: right;\">\n",
       "      <th></th>\n",
       "      <th>name</th>\n",
       "      <th>lat</th>\n",
       "      <th>lon</th>\n",
       "      <th>zip</th>\n",
       "      <th>id</th>\n",
       "    </tr>\n",
       "  </thead>\n",
       "  <tbody>\n",
       "    <tr>\n",
       "      <th>0</th>\n",
       "      <td>Kladow Grill Burger Pizza</td>\n",
       "      <td>52.453026</td>\n",
       "      <td>13.141852</td>\n",
       "      <td>14089</td>\n",
       "      <td>4f92ddb6e4b008256552e140</td>\n",
       "    </tr>\n",
       "    <tr>\n",
       "      <th>1</th>\n",
       "      <td>Volcano Burger</td>\n",
       "      <td>52.525032</td>\n",
       "      <td>13.196861</td>\n",
       "      <td>13595</td>\n",
       "      <td>594d55f69d6a19266e4509f0</td>\n",
       "    </tr>\n",
       "    <tr>\n",
       "      <th>2</th>\n",
       "      <td>Cruise-In</td>\n",
       "      <td>52.532584</td>\n",
       "      <td>13.178774</td>\n",
       "      <td>13581</td>\n",
       "      <td>4bf2815baf659c744ffcd747</td>\n",
       "    </tr>\n",
       "    <tr>\n",
       "      <th>3</th>\n",
       "      <td>Bastis Currys, Burgers &amp; Fries</td>\n",
       "      <td>52.533400</td>\n",
       "      <td>13.190330</td>\n",
       "      <td>13581</td>\n",
       "      <td>5a17e311bfc6d03f268daa13</td>\n",
       "    </tr>\n",
       "    <tr>\n",
       "      <th>4</th>\n",
       "      <td>Burger Route</td>\n",
       "      <td>52.530632</td>\n",
       "      <td>13.196140</td>\n",
       "      <td>13581</td>\n",
       "      <td>5921ba9c89e49063753304e5</td>\n",
       "    </tr>\n",
       "  </tbody>\n",
       "</table>\n",
       "</div>"
      ],
      "text/plain": [
       "                             name        lat        lon    zip  \\\n",
       "0       Kladow Grill Burger Pizza  52.453026  13.141852  14089   \n",
       "1                  Volcano Burger  52.525032  13.196861  13595   \n",
       "2                       Cruise-In  52.532584  13.178774  13581   \n",
       "3  Bastis Currys, Burgers & Fries  52.533400  13.190330  13581   \n",
       "4                    Burger Route  52.530632  13.196140  13581   \n",
       "\n",
       "                         id  \n",
       "0  4f92ddb6e4b008256552e140  \n",
       "1  594d55f69d6a19266e4509f0  \n",
       "2  4bf2815baf659c744ffcd747  \n",
       "3  5a17e311bfc6d03f268daa13  \n",
       "4  5921ba9c89e49063753304e5  "
      ]
     },
     "execution_count": 29,
     "metadata": {},
     "output_type": "execute_result"
    }
   ],
   "source": [
    "df_bj.head(5)"
   ]
  },
  {
   "cell_type": "code",
   "execution_count": 30,
   "metadata": {},
   "outputs": [
    {
     "data": {
      "text/html": [
       "<div>\n",
       "<style scoped>\n",
       "    .dataframe tbody tr th:only-of-type {\n",
       "        vertical-align: middle;\n",
       "    }\n",
       "\n",
       "    .dataframe tbody tr th {\n",
       "        vertical-align: top;\n",
       "    }\n",
       "\n",
       "    .dataframe thead th {\n",
       "        text-align: right;\n",
       "    }\n",
       "</style>\n",
       "<table border=\"1\" class=\"dataframe\">\n",
       "  <thead>\n",
       "    <tr style=\"text-align: right;\">\n",
       "      <th></th>\n",
       "      <th>name</th>\n",
       "      <th>lat</th>\n",
       "      <th>lon</th>\n",
       "      <th>zip</th>\n",
       "      <th>id</th>\n",
       "    </tr>\n",
       "  </thead>\n",
       "  <tbody>\n",
       "    <tr>\n",
       "      <th>0</th>\n",
       "      <td>Breakfast Room</td>\n",
       "      <td>52.399327</td>\n",
       "      <td>13.112184</td>\n",
       "      <td>NaN</td>\n",
       "      <td>5dd0f776ed8bfb0008fd2cf8</td>\n",
       "    </tr>\n",
       "    <tr>\n",
       "      <th>1</th>\n",
       "      <td>Concorde Hotel Forsthaus</td>\n",
       "      <td>52.405273</td>\n",
       "      <td>13.140936</td>\n",
       "      <td>14109</td>\n",
       "      <td>4ea0073e8b816206b9f66786</td>\n",
       "    </tr>\n",
       "    <tr>\n",
       "      <th>2</th>\n",
       "      <td>Pension Zeitlos</td>\n",
       "      <td>52.392231</td>\n",
       "      <td>13.098609</td>\n",
       "      <td>14482</td>\n",
       "      <td>4bc793c193bdeee1538837ae</td>\n",
       "    </tr>\n",
       "    <tr>\n",
       "      <th>3</th>\n",
       "      <td>avendi Hotel am Griebnitzsee</td>\n",
       "      <td>52.395366</td>\n",
       "      <td>13.127460</td>\n",
       "      <td>14482</td>\n",
       "      <td>4b0b2b48f964a520fc2d23e3</td>\n",
       "    </tr>\n",
       "    <tr>\n",
       "      <th>4</th>\n",
       "      <td>Apartements Filmeck</td>\n",
       "      <td>52.382681</td>\n",
       "      <td>13.122606</td>\n",
       "      <td>14480</td>\n",
       "      <td>57a37946498e72a672128ef4</td>\n",
       "    </tr>\n",
       "  </tbody>\n",
       "</table>\n",
       "</div>"
      ],
      "text/plain": [
       "                           name        lat        lon    zip  \\\n",
       "0                Breakfast Room  52.399327  13.112184    NaN   \n",
       "1      Concorde Hotel Forsthaus  52.405273  13.140936  14109   \n",
       "2               Pension Zeitlos  52.392231  13.098609  14482   \n",
       "3  avendi Hotel am Griebnitzsee  52.395366  13.127460  14482   \n",
       "4           Apartements Filmeck  52.382681  13.122606  14480   \n",
       "\n",
       "                         id  \n",
       "0  5dd0f776ed8bfb0008fd2cf8  \n",
       "1  4ea0073e8b816206b9f66786  \n",
       "2  4bc793c193bdeee1538837ae  \n",
       "3  4b0b2b48f964a520fc2d23e3  \n",
       "4  57a37946498e72a672128ef4  "
      ]
     },
     "execution_count": 30,
     "metadata": {},
     "output_type": "execute_result"
    }
   ],
   "source": [
    "df_ht.head(5)"
   ]
  },
  {
   "cell_type": "code",
   "execution_count": 31,
   "metadata": {},
   "outputs": [
    {
     "data": {
      "text/html": [
       "<div>\n",
       "<style scoped>\n",
       "    .dataframe tbody tr th:only-of-type {\n",
       "        vertical-align: middle;\n",
       "    }\n",
       "\n",
       "    .dataframe tbody tr th {\n",
       "        vertical-align: top;\n",
       "    }\n",
       "\n",
       "    .dataframe thead th {\n",
       "        text-align: right;\n",
       "    }\n",
       "</style>\n",
       "<table border=\"1\" class=\"dataframe\">\n",
       "  <thead>\n",
       "    <tr style=\"text-align: right;\">\n",
       "      <th></th>\n",
       "      <th>name</th>\n",
       "      <th>lat</th>\n",
       "      <th>lon</th>\n",
       "      <th>zip</th>\n",
       "      <th>id</th>\n",
       "    </tr>\n",
       "  </thead>\n",
       "  <tbody>\n",
       "    <tr>\n",
       "      <th>0</th>\n",
       "      <td>MedienHaus Babelsberg - Zentrum für Film- und ...</td>\n",
       "      <td>52.387894</td>\n",
       "      <td>13.119310</td>\n",
       "      <td>14482</td>\n",
       "      <td>506daff2e4b0dd5636405aae</td>\n",
       "    </tr>\n",
       "    <tr>\n",
       "      <th>1</th>\n",
       "      <td>VCAT Consulting HQ</td>\n",
       "      <td>52.388084</td>\n",
       "      <td>13.119418</td>\n",
       "      <td>14482</td>\n",
       "      <td>4bdae2aac79cc9286c1880e9</td>\n",
       "    </tr>\n",
       "    <tr>\n",
       "      <th>2</th>\n",
       "      <td>Vragments</td>\n",
       "      <td>52.388901</td>\n",
       "      <td>13.120517</td>\n",
       "      <td>14482</td>\n",
       "      <td>5b71911df2554e002c9e3f9b</td>\n",
       "    </tr>\n",
       "    <tr>\n",
       "      <th>3</th>\n",
       "      <td>Point Cloud Technology GmbH</td>\n",
       "      <td>52.387762</td>\n",
       "      <td>13.121250</td>\n",
       "      <td>14482</td>\n",
       "      <td>5cc6ba94c0af57002cd0a6ac</td>\n",
       "    </tr>\n",
       "    <tr>\n",
       "      <th>4</th>\n",
       "      <td>Radio TEDDY  HQ</td>\n",
       "      <td>52.382264</td>\n",
       "      <td>13.120453</td>\n",
       "      <td>14482</td>\n",
       "      <td>4b90c0a2f964a520419633e3</td>\n",
       "    </tr>\n",
       "  </tbody>\n",
       "</table>\n",
       "</div>"
      ],
      "text/plain": [
       "                                                name        lat        lon  \\\n",
       "0  MedienHaus Babelsberg - Zentrum für Film- und ...  52.387894  13.119310   \n",
       "1                                 VCAT Consulting HQ  52.388084  13.119418   \n",
       "2                                          Vragments  52.388901  13.120517   \n",
       "3                        Point Cloud Technology GmbH  52.387762  13.121250   \n",
       "4                                    Radio TEDDY  HQ  52.382264  13.120453   \n",
       "\n",
       "     zip                        id  \n",
       "0  14482  506daff2e4b0dd5636405aae  \n",
       "1  14482  4bdae2aac79cc9286c1880e9  \n",
       "2  14482  5b71911df2554e002c9e3f9b  \n",
       "3  14482  5cc6ba94c0af57002cd0a6ac  \n",
       "4  14482  4b90c0a2f964a520419633e3  "
      ]
     },
     "execution_count": 31,
     "metadata": {},
     "output_type": "execute_result"
    }
   ],
   "source": [
    "df_of.head(5)"
   ]
  },
  {
   "cell_type": "markdown",
   "metadata": {},
   "source": [
    "> We note, that there are missing zip code values in the data frames. We have to replace them.\n",
    "> Simultaneously we drop all places that are not in Berlin, as we compare with Berlin zip code polygons. "
   ]
  },
  {
   "cell_type": "code",
   "execution_count": 32,
   "metadata": {},
   "outputs": [],
   "source": [
    "def addmissingzips(df):\n",
    "    '''function to add missing zip values'''\n",
    "    zip_df = pd.DataFrame([],columns= ['name','lat','lon','zip','id'])\n",
    "    with open('plz_5-stellig_berlin.kml') as f:\n",
    "      folder = parser.parse(f).getroot().Document.Folder\n",
    "    i = 0\n",
    "    for pm in folder.Placemark:\n",
    "        try:\n",
    "            pmstr = pm.Polygon.outerBoundaryIs.LinearRing.coordinates\n",
    "            slist = [s.split(',') for s in str(pmstr).split(' ')]\n",
    "            sarray = np.array(slist).astype('float')\n",
    "        except AttributeError:\n",
    "            pmstr = pm.MultiGeometry.Polygon.outerBoundaryIs.LinearRing.coordinates\n",
    "            slist = [s.split(',') for s in str(pmstr).split(' ')]\n",
    "            sarray = np.array(slist).astype('float')\n",
    "\n",
    "        for lat, lon, name,ID in df[['lat','lon','name','id']].values:\n",
    "            point = Point(lon,lat)\n",
    "            polygon = Polygon(sarray)\n",
    "            flag = polygon.contains(point)\n",
    "\n",
    "            if flag:\n",
    "                zip_df.loc[i] =[name,lat,lon,int(pm.name),ID]            \n",
    "                i+=1  \n",
    "    return zip_df\n"
   ]
  },
  {
   "cell_type": "code",
   "execution_count": 33,
   "metadata": {},
   "outputs": [],
   "source": [
    "# here we add the missing zips for each category\n",
    "df_bj = addmissingzips(df_bj)\n",
    "df_ht = addmissingzips(df_ht)\n",
    "df_of = addmissingzips(df_of)"
   ]
  },
  {
   "cell_type": "code",
   "execution_count": 34,
   "metadata": {},
   "outputs": [],
   "source": [
    "# and we store the data frames as csv in our local repository\n",
    "df_bj.to_csv('cpstn_bj.csv',index=False)\n",
    "df_ht.to_csv('cpstn_ht.csv',index=False)\n",
    "df_of.to_csv('cpstn_of.csv',index=False)"
   ]
  },
  {
   "cell_type": "markdown",
   "metadata": {},
   "source": [
    "> Let us get one first glance at the entire data base."
   ]
  },
  {
   "cell_type": "code",
   "execution_count": 35,
   "metadata": {},
   "outputs": [
    {
     "data": {
      "text/html": [
       "<div>\n",
       "<style scoped>\n",
       "    .dataframe tbody tr th:only-of-type {\n",
       "        vertical-align: middle;\n",
       "    }\n",
       "\n",
       "    .dataframe tbody tr th {\n",
       "        vertical-align: top;\n",
       "    }\n",
       "\n",
       "    .dataframe thead th {\n",
       "        text-align: right;\n",
       "    }\n",
       "</style>\n",
       "<table border=\"1\" class=\"dataframe\">\n",
       "  <thead>\n",
       "    <tr style=\"text-align: right;\">\n",
       "      <th></th>\n",
       "      <th>name</th>\n",
       "      <th>lat</th>\n",
       "      <th>lon</th>\n",
       "      <th>zip</th>\n",
       "      <th>id</th>\n",
       "    </tr>\n",
       "  </thead>\n",
       "  <tbody>\n",
       "    <tr>\n",
       "      <th>0</th>\n",
       "      <td>Tommi's Burger Joint</td>\n",
       "      <td>52.532514</td>\n",
       "      <td>13.397578</td>\n",
       "      <td>10115</td>\n",
       "      <td>528a4e3411d24e4d2d087a64</td>\n",
       "    </tr>\n",
       "    <tr>\n",
       "      <th>1</th>\n",
       "      <td>Hasir Burger</td>\n",
       "      <td>52.532432</td>\n",
       "      <td>13.380729</td>\n",
       "      <td>10115</td>\n",
       "      <td>5704e0dc498ec9949606a33c</td>\n",
       "    </tr>\n",
       "    <tr>\n",
       "      <th>2</th>\n",
       "      <td>Peter Pane</td>\n",
       "      <td>52.521195</td>\n",
       "      <td>13.388127</td>\n",
       "      <td>10117</td>\n",
       "      <td>56e6f680498e5021b8c11ee8</td>\n",
       "    </tr>\n",
       "    <tr>\n",
       "      <th>3</th>\n",
       "      <td>Vedang</td>\n",
       "      <td>52.510559</td>\n",
       "      <td>13.380508</td>\n",
       "      <td>10117</td>\n",
       "      <td>5ccc141b3fffb400256e2f79</td>\n",
       "    </tr>\n",
       "    <tr>\n",
       "      <th>4</th>\n",
       "      <td>BraufactuM Berlin am Hausvogteiplatz (ehemals ...</td>\n",
       "      <td>52.513420</td>\n",
       "      <td>13.396050</td>\n",
       "      <td>10117</td>\n",
       "      <td>5c9d80a13183940025c9a9e8</td>\n",
       "    </tr>\n",
       "  </tbody>\n",
       "</table>\n",
       "</div>"
      ],
      "text/plain": [
       "                                                name        lat        lon  \\\n",
       "0                               Tommi's Burger Joint  52.532514  13.397578   \n",
       "1                                       Hasir Burger  52.532432  13.380729   \n",
       "2                                         Peter Pane  52.521195  13.388127   \n",
       "3                                             Vedang  52.510559  13.380508   \n",
       "4  BraufactuM Berlin am Hausvogteiplatz (ehemals ...  52.513420  13.396050   \n",
       "\n",
       "     zip                        id  \n",
       "0  10115  528a4e3411d24e4d2d087a64  \n",
       "1  10115  5704e0dc498ec9949606a33c  \n",
       "2  10117  56e6f680498e5021b8c11ee8  \n",
       "3  10117  5ccc141b3fffb400256e2f79  \n",
       "4  10117  5c9d80a13183940025c9a9e8  "
      ]
     },
     "execution_count": 35,
     "metadata": {},
     "output_type": "execute_result"
    }
   ],
   "source": [
    "df_bj.describe()"
   ]
  },
  {
   "cell_type": "code",
   "execution_count": 36,
   "metadata": {},
   "outputs": [
    {
     "data": {
      "text/html": [
       "<div>\n",
       "<style scoped>\n",
       "    .dataframe tbody tr th:only-of-type {\n",
       "        vertical-align: middle;\n",
       "    }\n",
       "\n",
       "    .dataframe tbody tr th {\n",
       "        vertical-align: top;\n",
       "    }\n",
       "\n",
       "    .dataframe thead th {\n",
       "        text-align: right;\n",
       "    }\n",
       "</style>\n",
       "<table border=\"1\" class=\"dataframe\">\n",
       "  <thead>\n",
       "    <tr style=\"text-align: right;\">\n",
       "      <th></th>\n",
       "      <th>name</th>\n",
       "      <th>lat</th>\n",
       "      <th>lon</th>\n",
       "      <th>zip</th>\n",
       "      <th>id</th>\n",
       "    </tr>\n",
       "  </thead>\n",
       "  <tbody>\n",
       "    <tr>\n",
       "      <th>0</th>\n",
       "      <td>Titanic Chaussee Berlin</td>\n",
       "      <td>52.532215</td>\n",
       "      <td>13.381012</td>\n",
       "      <td>10115</td>\n",
       "      <td>56a12a9b498eedc0ca6aa26a</td>\n",
       "    </tr>\n",
       "    <tr>\n",
       "      <th>1</th>\n",
       "      <td>INNSiDE Berlin Mitte</td>\n",
       "      <td>52.532891</td>\n",
       "      <td>13.380609</td>\n",
       "      <td>10115</td>\n",
       "      <td>5b5744cec824ae002ca934c6</td>\n",
       "    </tr>\n",
       "    <tr>\n",
       "      <th>2</th>\n",
       "      <td>Mercure Hotel Berlin City</td>\n",
       "      <td>52.530475</td>\n",
       "      <td>13.381626</td>\n",
       "      <td>10115</td>\n",
       "      <td>4b7d86c4f964a5207fc42fe3</td>\n",
       "    </tr>\n",
       "    <tr>\n",
       "      <th>3</th>\n",
       "      <td>H+ Hotel Berlin Mitte</td>\n",
       "      <td>52.529586</td>\n",
       "      <td>13.383976</td>\n",
       "      <td>10115</td>\n",
       "      <td>4b1d6047f964a5209e0f24e3</td>\n",
       "    </tr>\n",
       "    <tr>\n",
       "      <th>4</th>\n",
       "      <td>Hotel i31</td>\n",
       "      <td>52.531107</td>\n",
       "      <td>13.384270</td>\n",
       "      <td>10115</td>\n",
       "      <td>510fd821d86c62b891ed167b</td>\n",
       "    </tr>\n",
       "  </tbody>\n",
       "</table>\n",
       "</div>"
      ],
      "text/plain": [
       "                        name        lat        lon    zip  \\\n",
       "0    Titanic Chaussee Berlin  52.532215  13.381012  10115   \n",
       "1       INNSiDE Berlin Mitte  52.532891  13.380609  10115   \n",
       "2  Mercure Hotel Berlin City  52.530475  13.381626  10115   \n",
       "3      H+ Hotel Berlin Mitte  52.529586  13.383976  10115   \n",
       "4                  Hotel i31  52.531107  13.384270  10115   \n",
       "\n",
       "                         id  \n",
       "0  56a12a9b498eedc0ca6aa26a  \n",
       "1  5b5744cec824ae002ca934c6  \n",
       "2  4b7d86c4f964a5207fc42fe3  \n",
       "3  4b1d6047f964a5209e0f24e3  \n",
       "4  510fd821d86c62b891ed167b  "
      ]
     },
     "execution_count": 36,
     "metadata": {},
     "output_type": "execute_result"
    }
   ],
   "source": [
    "df_ht.describe()"
   ]
  },
  {
   "cell_type": "code",
   "execution_count": 37,
   "metadata": {},
   "outputs": [
    {
     "data": {
      "text/html": [
       "<div>\n",
       "<style scoped>\n",
       "    .dataframe tbody tr th:only-of-type {\n",
       "        vertical-align: middle;\n",
       "    }\n",
       "\n",
       "    .dataframe tbody tr th {\n",
       "        vertical-align: top;\n",
       "    }\n",
       "\n",
       "    .dataframe thead th {\n",
       "        text-align: right;\n",
       "    }\n",
       "</style>\n",
       "<table border=\"1\" class=\"dataframe\">\n",
       "  <thead>\n",
       "    <tr style=\"text-align: right;\">\n",
       "      <th></th>\n",
       "      <th>name</th>\n",
       "      <th>lat</th>\n",
       "      <th>lon</th>\n",
       "      <th>zip</th>\n",
       "      <th>id</th>\n",
       "    </tr>\n",
       "  </thead>\n",
       "  <tbody>\n",
       "    <tr>\n",
       "      <th>0</th>\n",
       "      <td>Packagist Conductors</td>\n",
       "      <td>52.525776</td>\n",
       "      <td>13.399334</td>\n",
       "      <td>10115</td>\n",
       "      <td>5b965779a4ba7c002ceeb06f</td>\n",
       "    </tr>\n",
       "    <tr>\n",
       "      <th>1</th>\n",
       "      <td>Factory Berlin</td>\n",
       "      <td>52.537174</td>\n",
       "      <td>13.394512</td>\n",
       "      <td>10115</td>\n",
       "      <td>4fcd0618e4b09fb19cb92b50</td>\n",
       "    </tr>\n",
       "    <tr>\n",
       "      <th>2</th>\n",
       "      <td>Silicon Allee Campus</td>\n",
       "      <td>52.530236</td>\n",
       "      <td>13.383890</td>\n",
       "      <td>10115</td>\n",
       "      <td>4fa7a540e4b0752c6af21d24</td>\n",
       "    </tr>\n",
       "    <tr>\n",
       "      <th>3</th>\n",
       "      <td>HERE Campus</td>\n",
       "      <td>52.530843</td>\n",
       "      <td>13.384931</td>\n",
       "      <td>10115</td>\n",
       "      <td>4f16a28fe4b0044a285b0d53</td>\n",
       "    </tr>\n",
       "    <tr>\n",
       "      <th>4</th>\n",
       "      <td>SoundCloud HQ</td>\n",
       "      <td>52.537310</td>\n",
       "      <td>13.394305</td>\n",
       "      <td>10115</td>\n",
       "      <td>536539ed498e3a9213a33acb</td>\n",
       "    </tr>\n",
       "  </tbody>\n",
       "</table>\n",
       "</div>"
      ],
      "text/plain": [
       "                   name        lat        lon    zip                        id\n",
       "0  Packagist Conductors  52.525776  13.399334  10115  5b965779a4ba7c002ceeb06f\n",
       "1        Factory Berlin  52.537174  13.394512  10115  4fcd0618e4b09fb19cb92b50\n",
       "2  Silicon Allee Campus  52.530236  13.383890  10115  4fa7a540e4b0752c6af21d24\n",
       "3           HERE Campus  52.530843  13.384931  10115  4f16a28fe4b0044a285b0d53\n",
       "4         SoundCloud HQ  52.537310  13.394305  10115  536539ed498e3a9213a33acb"
      ]
     },
     "execution_count": 37,
     "metadata": {},
     "output_type": "execute_result"
    }
   ],
   "source": [
    "df_of.describe()"
   ]
  },
  {
   "cell_type": "markdown",
   "metadata": {},
   "source": [
    "> This concludes the data acquisition."
   ]
  }
 ],
 "metadata": {
  "kernelspec": {
   "display_name": "Python",
   "language": "python",
   "name": "conda-env-python-py"
  },
  "language_info": {
   "codemirror_mode": {
    "name": "ipython",
    "version": 3
   },
   "file_extension": ".py",
   "mimetype": "text/x-python",
   "name": "python",
   "nbconvert_exporter": "python",
   "pygments_lexer": "ipython3",
   "version": "3.6.7"
  }
 },
 "nbformat": 4,
 "nbformat_minor": 4
}
